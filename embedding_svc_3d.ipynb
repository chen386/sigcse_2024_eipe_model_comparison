{
 "cells": [
  {
   "cell_type": "code",
   "execution_count": 1,
   "id": "b61e0e5d",
   "metadata": {},
   "outputs": [],
   "source": [
    "import itertools\n",
    "import pickle\n",
    "\n",
    "import numpy as np\n",
    "import pandas as pd\n",
    "\n",
    "from sklearn.svm import SVC\n",
    "from sklearn.metrics import accuracy_score, cohen_kappa_score, f1_score"
   ]
  },
  {
   "cell_type": "code",
   "execution_count": 2,
   "id": "d6d66e04",
   "metadata": {},
   "outputs": [],
   "source": [
    "df = pd.read_csv('sigcse_2024.csv')\n",
    "\n",
    "train_df = df[df.subset == 'train'].copy()\n",
    "validate_df = df[df.subset == 'validate'].copy()\n",
    "test_df = df[df.subset == 'test'].copy()"
   ]
  },
  {
   "cell_type": "code",
   "execution_count": 3,
   "id": "30907b66",
   "metadata": {},
   "outputs": [],
   "source": [
    "kernels = ['linear', 'poly', 'rbf']\n",
    "cs = [1, 2, 4, 8, 16, 32, 64, 128, 256, 512, 1024, 2048, 4096, 8192]"
   ]
  },
  {
   "cell_type": "code",
   "execution_count": 4,
   "id": "88291cee",
   "metadata": {},
   "outputs": [],
   "source": [
    "suffix_to_config_to_metrics = pickle.load(open('embeddings/suffix_to_config_to_metrics.pkl', 'rb'))"
   ]
  },
  {
   "cell_type": "code",
   "execution_count": 5,
   "id": "1971f9c4",
   "metadata": {},
   "outputs": [],
   "source": [
    "suffix_to_best_config = {}\n",
    "for suffix in suffix_to_config_to_metrics:\n",
    "    config_to_metrics = suffix_to_config_to_metrics[suffix]\n",
    "    best_configs = [max(config_to_metrics, key=lambda x : config_to_metrics.get(x)[i]) for i in range(3)]\n",
    "    assert len(set(best_configs)) == 1\n",
    "    suffix_to_best_config[suffix] = best_configs[0]"
   ]
  },
  {
   "cell_type": "code",
   "execution_count": 6,
   "id": "b7d87e11",
   "metadata": {},
   "outputs": [],
   "source": [
    "embeddings = pickle.load(open(f'embeddings/openai_api.pkl', 'rb'))"
   ]
  },
  {
   "cell_type": "code",
   "execution_count": 7,
   "id": "68c1e1ba",
   "metadata": {},
   "outputs": [],
   "source": [
    "for suffix in suffix_to_best_config:\n",
    "    best_config = suffix_to_best_config[suffix]\n",
    "    \n",
    "    for qid, sub_train_df in train_df.groupby('qid'):\n",
    "        if len(sub_train_df[suffix].unique()) == 1:\n",
    "            sub_validate_df = validate_df[validate_df.qid == qid]\n",
    "            sub_test_df = test_df[test_df.qid == qid]\n",
    "            \n",
    "            validate_df.loc[sub_validate_df.index, f'embedding_openai_api_{suffix}_svc'] = sub_train_df[suffix].unique()[0]\n",
    "            test_df.loc[sub_test_df.index, f'embedding_openai_api_{suffix}_svc'] = sub_train_df[suffix].unique()[0]\n",
    "        else:\n",
    "            svc = SVC(kernel=best_config.split('_')[0], C=int(best_config.split('_')[1]))\n",
    "\n",
    "            train_X = np.zeros((len(sub_train_df), np.shape(embeddings)[1]))\n",
    "            train_y = np.zeros((len(sub_train_df), ), dtype=int)\n",
    "            index = 0\n",
    "            for row_index, row in sub_train_df.iterrows():\n",
    "                train_X[index, :] = embeddings[row_index]\n",
    "                train_y[index] = row[suffix]\n",
    "\n",
    "                index += 1\n",
    "            svc.fit(train_X, train_y)\n",
    "\n",
    "            sub_validate_df = validate_df[validate_df.qid == qid]\n",
    "            validate_X = np.zeros((len(sub_validate_df), np.shape(embeddings)[1]))\n",
    "            validate_y = np.zeros((len(sub_validate_df), ), dtype=int)\n",
    "            index = 0\n",
    "            for row_index, row in sub_validate_df.iterrows():\n",
    "                validate_X[index, :] = embeddings[row_index]\n",
    "                validate_y[index] = row[suffix]\n",
    "\n",
    "                index += 1\n",
    "            predicted = svc.predict(validate_X)\n",
    "            validate_df.loc[sub_validate_df.index, f'embedding_openai_api_{suffix}_svc'] = predicted\n",
    "\n",
    "            sub_test_df = test_df[test_df.qid == qid]\n",
    "            test_X = np.zeros((len(sub_test_df), np.shape(embeddings)[1]))\n",
    "            test_y = np.zeros((len(sub_test_df), ), dtype=int)\n",
    "            index = 0\n",
    "            for row_index, row in sub_test_df.iterrows():\n",
    "                test_X[index, :] = embeddings[row_index]\n",
    "                test_y[index] = row[suffix]\n",
    "\n",
    "                index += 1\n",
    "            predicted = svc.predict(test_X)\n",
    "            test_df.loc[sub_test_df.index, f'embedding_openai_api_{suffix}_svc'] = predicted"
   ]
  },
  {
   "cell_type": "code",
   "execution_count": 8,
   "id": "bc89aa69",
   "metadata": {},
   "outputs": [
    {
     "name": "stdout",
     "output_type": "stream",
     "text": [
      "c\n",
      "0.8838709677419355 0.7640966020187074 0.8968481375358166\n",
      "una\n",
      "0.7725806451612903 0.4262876043471412 0.8438538205980065\n",
      "hl\n",
      "0.9258064516129032 0.7342774620329824 0.9554263565891473\n"
     ]
    }
   ],
   "source": [
    "for suffix in suffix_to_best_config:\n",
    "    accuracy = accuracy_score(test_df[suffix], test_df[f'embedding_openai_api_{suffix}_svc'])\n",
    "    kappa = cohen_kappa_score(test_df[suffix], test_df[f'embedding_openai_api_{suffix}_svc'])\n",
    "    f1 = f1_score(test_df[suffix], test_df[f'embedding_openai_api_{suffix}_svc'])\n",
    "    print(suffix)\n",
    "    print(accuracy, kappa, f1)"
   ]
  },
  {
   "cell_type": "code",
   "execution_count": 9,
   "id": "8a2825e1",
   "metadata": {},
   "outputs": [],
   "source": [
    "validate_df['c_una_hl'] = validate_df.apply(lambda row : f'{row.c}_{row.una}_{row.hl}', axis=1)\n",
    "validate_df['c_una_hl_predicted'] = validate_df.apply(lambda row : f'{int(row.embedding_openai_api_c_svc)}_{int(row.embedding_openai_api_una_svc)}_{int(row.embedding_openai_api_hl_svc)}', axis=1)\n",
    "validate_df['converted_binary_ground_truth'] = validate_df.c_una_hl.apply(lambda x : 1 if x == '1_1_1' else 0)\n",
    "validate_df['converted_binary_predicted'] = validate_df.c_una_hl_predicted.apply(lambda x : 1 if x == '1_1_1' else 0)"
   ]
  },
  {
   "cell_type": "code",
   "execution_count": 10,
   "id": "ec0b3eaa",
   "metadata": {},
   "outputs": [],
   "source": [
    "test_df['c_una_hl'] = test_df.apply(lambda row : f'{row.c}_{row.una}_{row.hl}', axis=1)\n",
    "test_df['c_una_hl_predicted'] = test_df.apply(lambda row : f'{int(row.embedding_openai_api_c_svc)}_{int(row.embedding_openai_api_una_svc)}_{int(row.embedding_openai_api_hl_svc)}', axis=1)\n",
    "test_df['converted_binary_ground_truth'] = test_df.c_una_hl.apply(lambda x : 1 if x == '1_1_1' else 0)\n",
    "test_df['converted_binary_predicted'] = test_df.c_una_hl_predicted.apply(lambda x : 1 if x == '1_1_1' else 0)"
   ]
  },
  {
   "cell_type": "code",
   "execution_count": 11,
   "id": "58e2623d",
   "metadata": {},
   "outputs": [
    {
     "name": "stdout",
     "output_type": "stream",
     "text": [
      "0.8661290322580645\n",
      "0.7254002134471718\n",
      "0.838206627680312\n"
     ]
    }
   ],
   "source": [
    "print(accuracy_score(test_df['converted_binary_ground_truth'], test_df['converted_binary_predicted']))\n",
    "print(cohen_kappa_score(test_df['converted_binary_ground_truth'], test_df['converted_binary_predicted']))\n",
    "print(f1_score(test_df['converted_binary_ground_truth'], test_df['converted_binary_predicted']))"
   ]
  },
  {
   "cell_type": "code",
   "execution_count": 12,
   "id": "9368fa28",
   "metadata": {},
   "outputs": [],
   "source": [
    "def order_predict(row, order):\n",
    "    if row.converted_binary_ground_truth == 1:\n",
    "        return row.converted_binary_predicted\n",
    "    else:\n",
    "        for suffix in order:\n",
    "            if row[suffix] == 1:\n",
    "                if row[f'embedding_openai_api_{suffix}_svc'] == 1:\n",
    "                    continue\n",
    "                else:\n",
    "                    return -1\n",
    "            else:\n",
    "                if row[f'embedding_openai_api_{suffix}_svc'] == 1:\n",
    "                    continue\n",
    "                else:\n",
    "                    return 0\n",
    "        return 1"
   ]
  },
  {
   "cell_type": "code",
   "execution_count": 13,
   "id": "ecf1cbb4",
   "metadata": {},
   "outputs": [],
   "source": [
    "orders = [\n",
    "    ['c', 'hl', 'una'], \n",
    "    ['c', 'una', 'hl'],\n",
    "    ['hl', 'c', 'una'],\n",
    "    ['hl', 'una', 'c'],\n",
    "    ['una', 'c', 'hl'],\n",
    "    ['una', 'hl', 'c']\n",
    "]"
   ]
  },
  {
   "cell_type": "code",
   "execution_count": 14,
   "id": "72471e01",
   "metadata": {},
   "outputs": [
    {
     "name": "stdout",
     "output_type": "stream",
     "text": [
      "['c', 'hl', 'una']\n",
      "0.826797385620915\n",
      "0.647358121330724\n",
      "0.7999999999999999\n",
      "['c', 'una', 'hl']\n",
      "0.8284313725490197\n",
      "0.6505481597494127\n",
      "0.8015122873345935\n",
      "['hl', 'c', 'una']\n",
      "0.8186274509803921\n",
      "0.6314453125\n",
      "0.7925233644859814\n",
      "['hl', 'una', 'c']\n",
      "0.8006535947712419\n",
      "0.5966549980552315\n",
      "0.7765567765567766\n",
      "['una', 'c', 'hl']\n",
      "0.8055555555555556\n",
      "0.606113707165109\n",
      "0.7808471454880296\n",
      "['una', 'hl', 'c']\n",
      "0.803921568627451\n",
      "0.6029583495523549\n",
      "0.7794117647058822\n"
     ]
    }
   ],
   "source": [
    "for order in orders:\n",
    "    order_string = '_'.join(order)\n",
    "    validate_df[order_string] = validate_df.apply(lambda row :  order_predict(row, order), axis=1)\n",
    "    validate_df[f'{order_string}_ground_truth'] = validate_df['converted_binary_ground_truth']\n",
    "    validate_df.loc[validate_df[order_string] == -1, f'{order_string}_ground_truth'] = 1\n",
    "    validate_df.loc[validate_df[order_string] == -1, order_string] = 0\n",
    "    \n",
    "    print(order)\n",
    "    print(accuracy_score(validate_df[f'{order_string}_ground_truth'], validate_df[order_string]))\n",
    "    print(cohen_kappa_score(validate_df[f'{order_string}_ground_truth'], validate_df[order_string]))\n",
    "    print(f1_score(validate_df[f'{order_string}_ground_truth'], validate_df[order_string]))"
   ]
  },
  {
   "cell_type": "code",
   "execution_count": 15,
   "id": "34ae1538",
   "metadata": {},
   "outputs": [
    {
     "name": "stdout",
     "output_type": "stream",
     "text": [
      "0.6612903225806451\n",
      "0.5503755503755503\n",
      "0.6452956635729279\n"
     ]
    }
   ],
   "source": [
    "print(accuracy_score(test_df['c_una_hl'], test_df['c_una_hl_predicted']))\n",
    "print(cohen_kappa_score(test_df['c_una_hl'], test_df['c_una_hl_predicted']))\n",
    "print(f1_score(test_df['c_una_hl'], test_df['c_una_hl_predicted'], average='weighted'))"
   ]
  },
  {
   "cell_type": "code",
   "execution_count": 16,
   "id": "617ae5a4",
   "metadata": {},
   "outputs": [
    {
     "name": "stdout",
     "output_type": "stream",
     "text": [
      "['c', 'una', 'hl']\n",
      "0.8145161290322581\n",
      "0.6236434272201343\n",
      "0.7889908256880733\n"
     ]
    }
   ],
   "source": [
    "order = ['c', 'una', 'hl']\n",
    "order_string = '_'.join(order)\n",
    "test_df[order_string] = test_df.apply(lambda row :  order_predict(row, order), axis=1)\n",
    "test_df[f'{order_string}_ground_truth'] = test_df['converted_binary_ground_truth']\n",
    "test_df.loc[test_df[order_string] == -1, f'{order_string}_ground_truth'] = 1\n",
    "test_df.loc[test_df[order_string] == -1, order_string] = 0\n",
    "\n",
    "print(order)\n",
    "print(accuracy_score(test_df[f'{order_string}_ground_truth'], test_df[order_string]))\n",
    "print(cohen_kappa_score(test_df[f'{order_string}_ground_truth'], test_df[order_string]))\n",
    "print(f1_score(test_df[f'{order_string}_ground_truth'], test_df[order_string]))"
   ]
  },
  {
   "cell_type": "code",
   "execution_count": 17,
   "id": "1f13ab97",
   "metadata": {},
   "outputs": [
    {
     "name": "stdout",
     "output_type": "stream",
     "text": [
      "0.8887096774193548\n",
      "0.7661016949152543\n",
      "0.8571428571428572\n"
     ]
    }
   ],
   "source": [
    "print(accuracy_score(test_df['binary_ground_truth'], test_df['converted_binary_ground_truth']))\n",
    "print(cohen_kappa_score(test_df['binary_ground_truth'], test_df['converted_binary_ground_truth']))\n",
    "print(f1_score(test_df['binary_ground_truth'], test_df['converted_binary_ground_truth']))"
   ]
  },
  {
   "cell_type": "code",
   "execution_count": null,
   "id": "a27b76e3",
   "metadata": {},
   "outputs": [],
   "source": []
  }
 ],
 "metadata": {
  "kernelspec": {
   "display_name": "Python 3 (ipykernel)",
   "language": "python",
   "name": "python3"
  },
  "language_info": {
   "codemirror_mode": {
    "name": "ipython",
    "version": 3
   },
   "file_extension": ".py",
   "mimetype": "text/x-python",
   "name": "python",
   "nbconvert_exporter": "python",
   "pygments_lexer": "ipython3",
   "version": "3.10.6"
  }
 },
 "nbformat": 4,
 "nbformat_minor": 5
}
