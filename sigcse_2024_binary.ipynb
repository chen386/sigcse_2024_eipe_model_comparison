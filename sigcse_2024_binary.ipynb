{
 "cells": [
  {
   "cell_type": "code",
   "execution_count": 1,
   "id": "f457b489",
   "metadata": {},
   "outputs": [],
   "source": [
    "import pickle\n",
    "\n",
    "import pandas as pd\n",
    "\n",
    "from sklearn.metrics import accuracy_score, cohen_kappa_score, f1_score"
   ]
  },
  {
   "cell_type": "code",
   "execution_count": 2,
   "id": "f7baee7c",
   "metadata": {},
   "outputs": [],
   "source": [
    "df = pd.read_csv('sigcse_2024.csv')"
   ]
  },
  {
   "cell_type": "code",
   "execution_count": 3,
   "id": "64ed76cf",
   "metadata": {},
   "outputs": [],
   "source": [
    "predictions = [\n",
    "    'bigram_lr', 'bigram_svc',\n",
    "    'embedding_lr', 'embedding_last_token_svc', 'embedding_mean_pooling_svc', 'embedding_openai_api_svc',\n",
    "    'gpt3_no_examples', 'gpt4_0314_no_examples', 'gpt4_0613_no_examples',\n",
    "    'gpt3_random_5p5n_examples', 'gpt4_0314_random_5p5n_examples', 'gpt4_0613_random_5p5n_examples',\n",
    "    'gpt3_random_10p10n_examples', 'gpt4_0314_random_10p10n_examples', 'gpt4_0613_random_10p10n_examples'\n",
    "]"
   ]
  },
  {
   "cell_type": "code",
   "execution_count": 4,
   "id": "979ae57e",
   "metadata": {},
   "outputs": [],
   "source": [
    "test_df = df[df.subset == 'test'].copy()"
   ]
  },
  {
   "cell_type": "code",
   "execution_count": 5,
   "id": "f6380c6a",
   "metadata": {},
   "outputs": [
    {
     "name": "stdout",
     "output_type": "stream",
     "text": [
      "bigram_lr\n",
      "0.8612903225806452 0.7125668449197861 0.8293650793650793\n",
      "bigram_svc\n",
      "0.8580645161290322 0.7062750333778371 0.8260869565217391\n",
      "embedding_lr\n",
      "0.853225806451613 0.6948356807511737 0.8176352705410822\n",
      "embedding_last_token_svc\n",
      "0.8580645161290322 0.7093791281373845 0.8314176245210728\n",
      "embedding_mean_pooling_svc\n",
      "0.864516129032258 0.7222222222222222 0.8384615384615385\n",
      "embedding_openai_api_svc\n",
      "0.8887096774193548 0.7713717693836978 0.8665377176015473\n",
      "gpt3_no_examples\n",
      "0.6741935483870968 0.2847025495750708 0.5190476190476191\n",
      "gpt4_0314_no_examples\n",
      "0.7887096774193548 0.5647840531561461 0.7446393762183235\n",
      "gpt4_0613_no_examples\n",
      "0.8145161290322581 0.6224556795797768 0.7834274952919021\n",
      "gpt3_random_5p5n_examples\n",
      "0.75 0.4546094299788881 0.6386946386946386\n",
      "gpt4_0314_random_5p5n_examples\n",
      "0.8661290322580645 0.7246184472461845 0.8388349514563107\n",
      "gpt4_0613_random_5p5n_examples\n",
      "0.8483870967741935 0.6891534391534391 0.8192307692307692\n",
      "gpt3_random_10p10n_examples\n",
      "0.8064516129032258 0.5815899581589958 0.7285067873303167\n",
      "gpt4_0314_random_10p10n_examples\n",
      "0.8564516129032258 0.7039254823685961 0.8258317025440313\n",
      "gpt4_0613_random_10p10n_examples\n",
      "0.8354838709677419 0.6635883905013192 0.8053435114503817\n"
     ]
    }
   ],
   "source": [
    "for prediction in predictions:\n",
    "    predicted = pickle.load(open(f'{prediction}.pkl', 'rb'))\n",
    "    accuracy = accuracy_score(test_df.binary_ground_truth, predicted)\n",
    "    kappa = cohen_kappa_score(test_df.binary_ground_truth, predicted)\n",
    "    f1 = f1_score(test_df.binary_ground_truth, predicted)\n",
    "    print(prediction)\n",
    "    print(accuracy, kappa, f1)"
   ]
  },
  {
   "cell_type": "code",
   "execution_count": 6,
   "id": "00558f93",
   "metadata": {},
   "outputs": [
    {
     "data": {
      "text/plain": [
       "3064"
      ]
     },
     "execution_count": 6,
     "metadata": {},
     "output_type": "execute_result"
    }
   ],
   "source": [
    "len(df)"
   ]
  },
  {
   "cell_type": "code",
   "execution_count": null,
   "id": "99f776cc",
   "metadata": {},
   "outputs": [],
   "source": []
  }
 ],
 "metadata": {
  "kernelspec": {
   "display_name": "Python 3 (ipykernel)",
   "language": "python",
   "name": "python3"
  },
  "language_info": {
   "codemirror_mode": {
    "name": "ipython",
    "version": 3
   },
   "file_extension": ".py",
   "mimetype": "text/x-python",
   "name": "python",
   "nbconvert_exporter": "python",
   "pygments_lexer": "ipython3",
   "version": "3.10.6"
  }
 },
 "nbformat": 4,
 "nbformat_minor": 5
}
