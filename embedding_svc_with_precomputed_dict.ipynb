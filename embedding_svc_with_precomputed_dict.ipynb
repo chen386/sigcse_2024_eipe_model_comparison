{
 "cells": [
  {
   "cell_type": "code",
   "execution_count": 1,
   "id": "b61e0e5d",
   "metadata": {},
   "outputs": [],
   "source": [
    "import itertools\n",
    "import pickle\n",
    "\n",
    "import numpy as np\n",
    "import pandas as pd\n",
    "\n",
    "from sklearn.svm import SVC\n",
    "from sklearn.metrics import cohen_kappa_score, f1_score"
   ]
  },
  {
   "cell_type": "code",
   "execution_count": 2,
   "id": "d6d66e04",
   "metadata": {},
   "outputs": [],
   "source": [
    "df = pd.read_csv('sigcse_2024.csv')\n",
    "\n",
    "train_df = df[df.subset == 'train'].copy()\n",
    "test_df = df[df.subset == 'test'].copy()"
   ]
  },
  {
   "cell_type": "code",
   "execution_count": 3,
   "id": "4181467c",
   "metadata": {},
   "outputs": [],
   "source": [
    "embedding_names = ['bert_base', 'bert_large', 'sbert',\n",
    "                   'gpt2', 'gpt2_medium', 'gpt2_large', 'gpt2_xl',\n",
    "                   'llama_7b', 'llama_13b', 'llama_30b', 'llama_65b',\n",
    "                   'llama2_7b', 'llama2_13b', 'llama2_70b',\n",
    "                   'llama2_7b_chat', 'llama2_13b_chat', 'llama2_70b_chat',\n",
    "                   'vicuna_7b', 'vicuna_13b', 'vicuna_33b']\n",
    "embedding_modes = ['last_token', 'mean_pooling']"
   ]
  },
  {
   "cell_type": "code",
   "execution_count": 4,
   "id": "30907b66",
   "metadata": {},
   "outputs": [],
   "source": [
    "kernels = ['linear', 'poly', 'rbf']"
   ]
  },
  {
   "cell_type": "code",
   "execution_count": 5,
   "id": "9120d91a",
   "metadata": {},
   "outputs": [],
   "source": [
    "embedding_to_config_to_metrics = {}\n",
    "for kernel in kernels:\n",
    "    for i in range(6):\n",
    "        split = pickle.load(open(f'embeddings/embedding_to_config_to_metrics_{kernel}_{i}.pkl', 'rb'))\n",
    "        embedding_to_config_to_metrics = embedding_to_config_to_metrics | split"
   ]
  },
  {
   "cell_type": "code",
   "execution_count": 6,
   "id": "22a8f815",
   "metadata": {},
   "outputs": [],
   "source": [
    "pickle.dump(embedding_to_config_to_metrics, open('embedding_to_config_to_metrics.pkl', 'wb'))"
   ]
  },
  {
   "cell_type": "code",
   "execution_count": 7,
   "id": "1971f9c4",
   "metadata": {},
   "outputs": [
    {
     "name": "stdout",
     "output_type": "stream",
     "text": [
      "bert_base_mean_pooling\n",
      "['rbf_8', 'rbf_8', 'rbf_16']\n",
      "gpt2_mean_pooling\n",
      "['rbf_4096', 'rbf_2048', 'rbf_2048']\n",
      "llama_65b_last_token\n",
      "['rbf_16', 'rbf_16', 'rbf_8']\n",
      "vicuna_7b_last_token\n",
      "['rbf_4', 'rbf_16', 'rbf_16']\n",
      "vicuna_33b_last_token\n",
      "['rbf_8', 'rbf_8', 'rbf_4']\n"
     ]
    }
   ],
   "source": [
    "embedding_to_best_config = {}\n",
    "embedding_to_metrics = {}\n",
    "for embedding in embedding_to_config_to_metrics:\n",
    "    config_to_metrics = embedding_to_config_to_metrics[embedding]\n",
    "    \n",
    "    best_configs = [max(config_to_metrics, key=lambda x : config_to_metrics.get(x)[i]) for i in range(3)]\n",
    "    \n",
    "    if len(set(best_configs)) != 1:\n",
    "        print(embedding)\n",
    "        print(best_configs)\n",
    "    \n",
    "    embedding_to_best_config[embedding] = best_configs[0]\n",
    "    embedding_to_metrics[embedding] = config_to_metrics[best_configs[0]]"
   ]
  },
  {
   "cell_type": "code",
   "execution_count": 8,
   "id": "0d986542",
   "metadata": {},
   "outputs": [],
   "source": [
    "del embedding_to_metrics['openai_api']"
   ]
  },
  {
   "cell_type": "code",
   "execution_count": 9,
   "id": "bcfba711",
   "metadata": {},
   "outputs": [],
   "source": [
    "best_embeddings = [max(embedding_to_metrics, key=lambda x : embedding_to_metrics.get(x)[i] if 'last_token' in x else 0) for i in range(3)]\n",
    "assert len(set(best_embeddings)) == 1"
   ]
  },
  {
   "cell_type": "code",
   "execution_count": 10,
   "id": "7ac0f3b6",
   "metadata": {},
   "outputs": [
    {
     "data": {
      "text/plain": [
       "['sbert_last_token', 'sbert_last_token', 'sbert_last_token']"
      ]
     },
     "execution_count": 10,
     "metadata": {},
     "output_type": "execute_result"
    }
   ],
   "source": [
    "best_embeddings"
   ]
  },
  {
   "cell_type": "code",
   "execution_count": 11,
   "id": "2cd24731",
   "metadata": {
    "scrolled": true
   },
   "outputs": [],
   "source": [
    "embeddings = pickle.load(open(f'embeddings/{best_embeddings[0]}.pkl', 'rb'))\n",
    "\n",
    "best_config = embedding_to_best_config[best_embeddings[0]]\n",
    "\n",
    "test_df['embedding_last_token_svc'] = 0\n",
    "for qid, sub_train_df in train_df.groupby('qid'):\n",
    "    svc = SVC(kernel=best_config.split('_')[0], C=int(best_config.split('_')[1]))\n",
    "    \n",
    "    train_X = np.zeros((len(sub_train_df), np.shape(embeddings)[1]))\n",
    "    train_y = np.zeros((len(sub_train_df), ), dtype=int)\n",
    "    index = 0\n",
    "    for row_index, row in sub_train_df.iterrows():\n",
    "        train_X[index, :] = embeddings[row_index]\n",
    "        train_y[index] = row.binary_ground_truth\n",
    "\n",
    "        index += 1\n",
    "\n",
    "    svc.fit(train_X, train_y)\n",
    "    \n",
    "    sub_test_df = test_df[test_df.qid == qid]\n",
    "    \n",
    "    test_X = np.zeros((len(sub_test_df), np.shape(embeddings)[1]))\n",
    "    test_y = np.zeros((len(sub_test_df), ), dtype=int)\n",
    "    index = 0\n",
    "    for row_index, row in sub_test_df.iterrows():\n",
    "        test_X[index, :] = embeddings[row_index]\n",
    "        test_y[index] = row.binary_ground_truth\n",
    "\n",
    "        index += 1\n",
    "    \n",
    "    targets = np.array(test_y)\n",
    "    predicted = svc.predict(test_X)\n",
    "    \n",
    "    test_df.loc[sub_test_df.index, 'embedding_last_token_svc'] = predicted"
   ]
  },
  {
   "cell_type": "code",
   "execution_count": 12,
   "id": "077a8935",
   "metadata": {},
   "outputs": [],
   "source": [
    "pickle.dump(list(test_df.embedding_last_token_svc), open('embedding_last_token_svc.pkl', 'wb'))"
   ]
  },
  {
   "cell_type": "code",
   "execution_count": 13,
   "id": "4a86120d",
   "metadata": {},
   "outputs": [],
   "source": [
    "best_embeddings = [max(embedding_to_metrics, key=lambda x : embedding_to_metrics.get(x)[i] if 'mean_pooling' in x else 0) for i in range(3)]\n",
    "assert len(set(best_embeddings)) == 1"
   ]
  },
  {
   "cell_type": "code",
   "execution_count": 14,
   "id": "d49df0cc",
   "metadata": {},
   "outputs": [
    {
     "data": {
      "text/plain": [
       "['sbert_mean_pooling', 'sbert_mean_pooling', 'sbert_mean_pooling']"
      ]
     },
     "execution_count": 14,
     "metadata": {},
     "output_type": "execute_result"
    }
   ],
   "source": [
    "best_embeddings"
   ]
  },
  {
   "cell_type": "code",
   "execution_count": 15,
   "id": "139a9061",
   "metadata": {},
   "outputs": [],
   "source": [
    "embeddings = pickle.load(open(f'embeddings/{best_embeddings[0]}.pkl', 'rb'))\n",
    "\n",
    "best_config = embedding_to_best_config[best_embeddings[0]]\n",
    "\n",
    "test_df['embedding_mean_pooling_svc'] = 0\n",
    "for qid, sub_train_df in train_df.groupby('qid'):\n",
    "    svc = SVC(kernel=best_config.split('_')[0], C=int(best_config.split('_')[1]))\n",
    "    \n",
    "    train_X = np.zeros((len(sub_train_df), np.shape(embeddings)[1]))\n",
    "    train_y = np.zeros((len(sub_train_df), ), dtype=int)\n",
    "    index = 0\n",
    "    for row_index, row in sub_train_df.iterrows():\n",
    "        train_X[index, :] = embeddings[row_index]\n",
    "        train_y[index] = row.binary_ground_truth\n",
    "\n",
    "        index += 1\n",
    "\n",
    "    svc.fit(train_X, train_y)\n",
    "    \n",
    "    sub_test_df = test_df[test_df.qid == qid]\n",
    "    \n",
    "    test_X = np.zeros((len(sub_test_df), np.shape(embeddings)[1]))\n",
    "    test_y = np.zeros((len(sub_test_df), ), dtype=int)\n",
    "    index = 0\n",
    "    for row_index, row in sub_test_df.iterrows():\n",
    "        test_X[index, :] = embeddings[row_index]\n",
    "        test_y[index] = row.binary_ground_truth\n",
    "\n",
    "        index += 1\n",
    "    \n",
    "    targets = np.array(test_y)\n",
    "    predicted = svc.predict(test_X)\n",
    "    \n",
    "    test_df.loc[sub_test_df.index, 'embedding_mean_pooling_svc'] = predicted"
   ]
  },
  {
   "cell_type": "code",
   "execution_count": 16,
   "id": "bfc9c765",
   "metadata": {},
   "outputs": [],
   "source": [
    "pickle.dump(list(test_df.embedding_mean_pooling_svc), open('embedding_mean_pooling_svc.pkl', 'wb'))"
   ]
  },
  {
   "cell_type": "code",
   "execution_count": 17,
   "id": "ae44bb3e",
   "metadata": {},
   "outputs": [],
   "source": [
    "embeddings = pickle.load(open(f'embeddings/openai_api.pkl', 'rb'))\n",
    "\n",
    "best_config = embedding_to_best_config['openai_api']\n",
    "\n",
    "test_df['embedding_openai_api_svc'] = 0\n",
    "for qid, sub_train_df in train_df.groupby('qid'):\n",
    "    svc = SVC(kernel=best_config.split('_')[0], C=int(best_config.split('_')[1]))\n",
    "    \n",
    "    train_X = np.zeros((len(sub_train_df), np.shape(embeddings)[1]))\n",
    "    train_y = np.zeros((len(sub_train_df), ), dtype=int)\n",
    "    index = 0\n",
    "    for row_index, row in sub_train_df.iterrows():\n",
    "        train_X[index, :] = embeddings[row_index]\n",
    "        train_y[index] = row.binary_ground_truth\n",
    "\n",
    "        index += 1\n",
    "\n",
    "    svc.fit(train_X, train_y)\n",
    "    \n",
    "    sub_test_df = test_df[test_df.qid == qid]\n",
    "    \n",
    "    test_X = np.zeros((len(sub_test_df), np.shape(embeddings)[1]))\n",
    "    test_y = np.zeros((len(sub_test_df), ), dtype=int)\n",
    "    index = 0\n",
    "    for row_index, row in sub_test_df.iterrows():\n",
    "        test_X[index, :] = embeddings[row_index]\n",
    "        test_y[index] = row.binary_ground_truth\n",
    "\n",
    "        index += 1\n",
    "    \n",
    "    targets = np.array(test_y)\n",
    "    predicted = svc.predict(test_X)\n",
    "    \n",
    "    test_df.loc[sub_test_df.index, 'embedding_openai_api_svc'] = predicted"
   ]
  },
  {
   "cell_type": "code",
   "execution_count": 18,
   "id": "f4daac83",
   "metadata": {},
   "outputs": [],
   "source": [
    "pickle.dump(list(test_df.embedding_openai_api_svc), open('embedding_openai_api_svc.pkl', 'wb'))"
   ]
  },
  {
   "cell_type": "code",
   "execution_count": null,
   "id": "f6ba091e",
   "metadata": {},
   "outputs": [],
   "source": []
  }
 ],
 "metadata": {
  "kernelspec": {
   "display_name": "Python 3 (ipykernel)",
   "language": "python",
   "name": "python3"
  },
  "language_info": {
   "codemirror_mode": {
    "name": "ipython",
    "version": 3
   },
   "file_extension": ".py",
   "mimetype": "text/x-python",
   "name": "python",
   "nbconvert_exporter": "python",
   "pygments_lexer": "ipython3",
   "version": "3.10.6"
  }
 },
 "nbformat": 4,
 "nbformat_minor": 5
}
